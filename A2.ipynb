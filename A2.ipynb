{
 "cells": [
  {
   "cell_type": "markdown",
   "id": "cf798513",
   "metadata": {
    "id": "cf798513"
   },
   "source": [
    "# CISC/CMPE 452/COGS 400 Assignment 2 - Backpropagation (15 points)  \n",
    "\n",
    "Please put your name and student id here\n",
    "\n",
    "    FirstName LastName, #12345678\n",
    "\n",
    "- The notebook file has clearly marked blocks where you are expected to write code. Do not write or modify any code outside of these blocks.\n",
    "- Make sure to restart and run all the cells from the beginning before submission. Do not clear out the outputs. You will only get credit for code that has been run.\n",
    "- Mark will be deducted based on late policy (-1% of the course total marks per day after due date until the end date after which no assignments will be accepted)\n"
   ]
  },
  {
   "cell_type": "markdown",
   "id": "95857ed4-e2ac-43fe-8110-9914e3d37848",
   "metadata": {
    "id": "VRLNrFDU3dKp"
   },
   "source": [
    "## [Part 1 (9 points)](#Part-1)  \n",
    "\n",
    "### Build Model1 (7 points)  \n",
    "Use Pytorch to implement a three-layer Neural Network (input layer - hidden layer - output layer) and update the weights with backpropagation  \n",
    "- 1. Implement forward and calculate the output (1 point)  \n",
    "- 2. Calculate errors and loss (3 points)  \n",
    "- 3. Update the weights with backpropagation (1 points)  \n",
    "- 4. Predict function (1 point)  \n",
    "- 5. Activation function (Sigmoid function) (1 point)  \n",
    "\n",
    "### Evaluator Function (1 point)  \n",
    "Implement the evaluator function with Pytorch or Numpy only   \n",
    "- Evaluation metrics include confusion matrix, accuracy, recall score, precision and F1 score\n",
    "\n",
    "### Train and Evaluate Model1 (1 point)  \n",
    "Train Model1 with customized hidden size, learning rate, number of iterations and batch size  \n",
    "Use the predict function to predict the labels with the test dataset  \n",
    "Evaluate the prediction results  \n",
    "- Evaluation metrics include confusion matrix, accuracy, recall score, precision and F1 score\n",
    "\n",
    "## [Part 2 (6 points)](#Part-2)  \n",
    "\n",
    "Use another machine learning framework (**scikit-learn, Tensorflow and Pytorch**) to build MLP\n",
    "e.g. \n",
    "  1. https://scikit-learn.org/stable/modules/generated/sklearn.neural_network.MLPClassifier.html\n",
    "  2. https://www.tensorflow.org/api_docs/python/tf/keras/Sequential\n",
    "  3. https://pytorch.org/tutorials/beginner/examples_nn/polynomial_nn.html#sphx-glr-beginner-examples-nn-polynomial-nn-py\n",
    "  \n",
    "### Build Model2-1 (2 points)  \n",
    "Implement Model2-1 with the same hidden nodes and optimization function as the model in Part 1  \n",
    "Train and validate model. Use the best model on validation dataset to test on the test dataset  \n",
    "\n",
    "### Train and Evaluate Model2-1 (1 point)\n",
    "Evaluate the prediction results  \n",
    "- Evaluation metrics include confusion matrix, accuracy, recall score, precision and F1 score\n",
    "\n",
    "### Build Model2-2 (2 points)  \n",
    "Add one more hidden layer (2 hidden layers in total) to the model  \n",
    "Describe Model2-2 (number of hidden nodes)  \n",
    "Train and validate model. Use the best model on validation dataset to test on the test dataset  \n",
    "\n",
    "### Train and Evaluate Model2-2 (1 point)\n",
    "Evaluate the prediction results  \n",
    "- Evaluation metrics include confusion matrix, accuracy, recall score, precision and F1 score"
   ]
  },
  {
   "cell_type": "code",
   "execution_count": 1,
   "id": "b7e6a263",
   "metadata": {
    "id": "b7e6a263"
   },
   "outputs": [],
   "source": [
    "import torch\n",
    "import matplotlib.pyplot as plt\n",
    "from torchvision.datasets import MNIST\n",
    "from torchmetrics import ConfusionMatrix\n",
    "import numpy as np \n",
    "import tensorflow as tf\n",
    "from tensorflow import keras\n",
    "from tensorflow.keras.models import Sequential\n",
    "from tensorflow.keras.layers import Dense\n",
    "from sklearn.metrics import accuracy_score\n",
    "from sklearn.neural_network import MLPClassifier"
   ]
  },
  {
   "cell_type": "code",
   "execution_count": 2,
   "id": "eKE_KANU7_sq",
   "metadata": {
    "colab": {
     "base_uri": "https://localhost:8080/"
    },
    "id": "eKE_KANU7_sq",
    "outputId": "946cd1ab-22bd-4efa-c734-faab97e6f40d"
   },
   "outputs": [
    {
     "data": {
      "text/plain": [
       "device(type='cuda')"
      ]
     },
     "execution_count": 2,
     "metadata": {},
     "output_type": "execute_result"
    }
   ],
   "source": [
    "# you can go to Edit - Notebook settings to select GPU under the Hardware accelerator\n",
    "# check the device\n",
    "device = torch.device('cuda' if torch.cuda.is_available() else 'cpu')\n",
    "device"
   ]
  },
  {
   "cell_type": "code",
   "execution_count": 3,
   "id": "9a5cbc46",
   "metadata": {
    "id": "9a5cbc46"
   },
   "outputs": [],
   "source": [
    "# build the dataset (train, validation and test)\n",
    "def load_MNIST(n_val=10000, n_sample=1000, sample=False):\n",
    "    n_val = n_val\n",
    "    n_sample = n_sample\n",
    "    train = MNIST(root = '.', train = True, download = True)\n",
    "    test = MNIST(root = '.', train = False, download = True)\n",
    "    \n",
    "    # data preprocessing\n",
    "    x_train, x_test = train.data/255, test.data/255\n",
    "    x_train = x_train.reshape(x_train.shape[0], -1)\n",
    "    x_test = x_test.reshape(x_test.shape[0], -1)\n",
    "    y_train = torch.nn.functional.one_hot(train.targets)\n",
    "    y_test = torch.nn.functional.one_hot(test.targets)\n",
    "\n",
    "    data_dict = {}\n",
    "    if sample:\n",
    "        data_dict['x_train'] = x_train[:-n_val][:n_sample]\n",
    "        data_dict['y_train'] = y_train[:-n_val][:n_sample]\n",
    "        data_dict['x_val'] = x_train[-n_val:][:n_sample//10]\n",
    "        data_dict['y_val'] = y_train[-n_val:][:n_sample//10]\n",
    "        data_dict['x_test'] = x_test[:n_sample//10]\n",
    "        data_dict['y_test'] = y_test[:n_sample//10]\n",
    "    else:\n",
    "        data_dict['x_train'] = x_train[:-n_val]\n",
    "        data_dict['y_train'] = y_train[:-n_val]\n",
    "        data_dict['x_val'] = x_train[-n_val:]\n",
    "        data_dict['y_val'] = y_train[-n_val:]\n",
    "        data_dict['x_test'] = x_test\n",
    "        data_dict['y_test'] = y_test\n",
    "    return data_dict"
   ]
  },
  {
   "cell_type": "code",
   "execution_count": 4,
   "id": "Q5G-vmpD21Bj",
   "metadata": {
    "colab": {
     "base_uri": "https://localhost:8080/",
     "height": 573
    },
    "id": "Q5G-vmpD21Bj",
    "outputId": "f053f294-9aad-4097-f75e-aaed70dd050e"
   },
   "outputs": [
    {
     "name": "stdout",
     "output_type": "stream",
     "text": [
      "Train data shape: torch.Size([50000, 784])\n",
      "Train labels shape: torch.Size([50000, 10])\n",
      "Validation data shape: torch.Size([10000, 784])\n",
      "Validation labels shape: torch.Size([10000, 10])\n",
      "Test data shape: torch.Size([10000, 784])\n",
      "Test labels shape: torch.Size([10000, 10])\n"
     ]
    }
   ],
   "source": [
    "# you can start with a small sample dataset by setting sample=True\n",
    "data_dict = load_MNIST(sample=False)\n",
    "print('Train data shape:', data_dict['x_train'].shape)\n",
    "print('Train labels shape:', data_dict['y_train'].shape)\n",
    "print('Validation data shape:', data_dict['x_val'].shape)\n",
    "print('Validation labels shape:', data_dict['y_val'].shape)\n",
    "print('Test data shape:', data_dict['x_test'].shape)\n",
    "print('Test labels shape:', data_dict['y_test'].shape)"
   ]
  },
  {
   "cell_type": "code",
   "execution_count": 5,
   "id": "1aa9f016",
   "metadata": {
    "colab": {
     "base_uri": "https://localhost:8080/",
     "height": 281
    },
    "id": "1aa9f016",
    "outputId": "83a4195e-8fb9-4850-8a9a-7c3bbc2bb623"
   },
   "outputs": [
    {
     "data": {
      "image/png": "[encoded data removed]",
      "text/plain": [
       "<Figure size 432x288 with 1 Axes>"
      ]
     },
     "metadata": {
      "needs_background": "light"
     },
     "output_type": "display_data"
    }
   ],
   "source": [
    "# plot an example\n",
    "plt.imshow(data_dict['x_train'][0].reshape(28, 28))\n",
    "plt.title(data_dict['y_train'][0].argmax().item())\n",
    "plt.show()"
   ]
  },
  {
   "cell_type": "code",
   "execution_count": 6,
   "id": "6291c647",
   "metadata": {
    "id": "6291c647"
   },
   "outputs": [],
   "source": [
    "def evaluator(y_test, y_pred):\n",
    "    ####################################################################################################\n",
    "    # enter code here to implement the evaluation metrics including confusion matrix, accuracy, precision and recall\n",
    "    # you can only use Numpy or Pytorch to implement the metrics\n",
    "    test_label = torch.argmax(y_test, dim=1)\n",
    "    \n",
    "    conf_matrix = ConfusionMatrix(num_classes=y_test.shape[1]).to(device)\n",
    "    conf_matrix = conf_matrix(y_pred, test_label).to(device)\n",
    "    \n",
    "    conf_matrix = conf_matrix.cpu().detach().numpy()\n",
    "    \n",
    "    acc = torch.sum(test_label == y_pred).item()/len(test_label)\n",
    "    prec = np.diag(conf_matrix) / np.sum(conf_matrix)\n",
    "    recall = np.diag(conf_matrix) / np.sum(conf_matrix)\n",
    "    fscore = (2*prec*recall)/(prec+recall)\n",
    "    \n",
    "    print(conf_matrix)\n",
    "    print(\"The accuracy of the model is: \", acc)\n",
    "    print(\"The precision of the model is: \", prec)\n",
    "    print(\"The recall of the model is: \", recall)\n",
    "    print(\"The f-measure of the model is: \", fscore)\n",
    "####################################################################################################"
   ]
  },
  {
   "cell_type": "markdown",
   "id": "4e4a6b06",
   "metadata": {
    "id": "4e4a6b06"
   },
   "source": [
    "## Part 1"
   ]
  },
  {
   "cell_type": "code",
   "execution_count": 7,
   "id": "a0d3fc2d",
   "metadata": {
    "id": "a0d3fc2d"
   },
   "outputs": [],
   "source": [
    "class NN(object):\n",
    "    def __init__(self, learning_rate, n_iters, batch_size, hidden_size, device, dtype=torch.float32):\n",
    "        self.learning_rate = learning_rate\n",
    "        self.n_iters = n_iters\n",
    "        self.batch_size = batch_size\n",
    "        self.hidden_size = hidden_size\n",
    "        self.device = device\n",
    "        self.dtype = dtype\n",
    "        self.history = {}\n",
    "        self.history['train_acc'], self.history['val_acc'], self.history['loss'] = [], [], []\n",
    "    \n",
    "    # 5. activation function\n",
    "    def sigmoid(self, x, derivative=False):\n",
    "        ####################################################################################################\n",
    "        # enter code here to implement the activation function\n",
    "        if (derivative == True):\n",
    "            return x * (1.0 - x)\n",
    "        return 1/(1 + torch.exp(-x))\n",
    "        \n",
    "        ####################################################################################################\n",
    "\n",
    "    def train(self, x, y, x_val, y_val, verbose=1):\n",
    "        n_train = x.shape[0]\n",
    "        n_val = x_val.shape[0]\n",
    "        input_size = x.shape[1]\n",
    "        num_classes = y.shape[1]\n",
    "        \n",
    "        # weight initialization\n",
    "        self.W1 = torch.randn(input_size, self.hidden_size, dtype=self.dtype, device=self.device) * 0.01\n",
    "        self.W2 = torch.randn(self.hidden_size, num_classes, dtype=self.dtype, device=self.device) * 0.01\n",
    "\n",
    "        # TODO: train the weights with the input data and labels\n",
    "        for i in range(self.n_iters):\n",
    "            loss = 0\n",
    "            data = getBatch(x, y, self.batch_size)\n",
    "            for x_batch, y_batch in data:\n",
    "                # 1. forward\n",
    "                ####################################################################################################\n",
    "                # enter code here to calculate the hidden layer output and output layer output\n",
    "                hidden = self.sigmoid(torch.matmul(x_batch,self.W1), derivative=False)\n",
    "                output = self.sigmoid(torch.matmul(hidden,self.W2), derivative=False)\n",
    "                ####################################################################################################\n",
    "\n",
    "                # 2. error and loss\n",
    "                ####################################################################################################\n",
    "                # enter code here to calculate the output error, MSE loss, delta output and delta hidden\n",
    "                output_error = y_batch - output\n",
    "                loss += (output_error**2).mean()\n",
    "                delta_output = output_error * self.sigmoid(output, derivative=True)\n",
    "                delta_hidden = torch.matmul(delta_output, self.W2.T) * self.sigmoid(hidden, derivative=True)\n",
    "                ####################################################################################################\n",
    "\n",
    "                # 3. backward\n",
    "                ####################################################################################################\n",
    "                # enter code here to calculate delta weights and update the weights\n",
    "                self.W1 += self.learning_rate * torch.matmul(x_batch.T, delta_hidden)\n",
    "                self.W2 += self.learning_rate * torch.matmul(hidden.T, delta_output)\n",
    "                \n",
    "                ####################################################################################################\n",
    "\n",
    "            # calculate the accuracy and save the training history\n",
    "            y_pred = self.predict(x)\n",
    "            train_acc = torch.sum(torch.argmax(y, dim=1) == y_pred) / n_train\n",
    "            self.history['train_acc'].append(train_acc.cpu())\n",
    "            self.history['loss'].append(loss)\n",
    "\n",
    "            y_pred = self.predict(x_val)\n",
    "            val_acc = torch.sum(torch.argmax(y_val, dim=1) == y_pred) / n_val\n",
    "            self.history['val_acc'].append(val_acc.cpu())\n",
    "            if verbose:\n",
    "                print('epoch %d, loss %.4f, train acc %.3f, validation acc %.3f'\n",
    "                  % (i + 1, loss, train_acc, val_acc))\n",
    "    \n",
    "    # 4. predict function \n",
    "    def predict(self, x):\n",
    "        ####################################################################################################\n",
    "        # enter code here to implement the predict function\n",
    "        # TODO: use the trained weights to predict labels and return the predicted labels\n",
    "        # remember to use torch.argmax() to return the true labels\n",
    "        \n",
    "        hidden = self.sigmoid(torch.matmul(x, self.W1))\n",
    "        \n",
    "        output = self.sigmoid(torch.matmul(hidden, self.W2))\n",
    "        \n",
    "        y_pred = torch.argmax(output, dim=1)\n",
    "        ####################################################################################################\n",
    "        return y_pred\n",
    "\n",
    "def getBatch(x, y, batch_size):\n",
    "    n_epoch = x.shape[0] // batch_size\n",
    "    for i in range(n_epoch):\n",
    "        x_batch = x[i * batch_size : (i+1) * batch_size]\n",
    "        y_batch = y[i * batch_size : (i+1) * batch_size]\n",
    "        yield x_batch, y_batch\n",
    "    x_batch = x[(i+1) * batch_size:]\n",
    "    y_batch = y[(i+1) * batch_size:]    \n",
    "    yield x_batch, y_batch"
   ]
  },
  {
   "cell_type": "code",
   "execution_count": 8,
   "id": "74e9819c",
   "metadata": {
    "colab": {
     "base_uri": "https://localhost:8080/"
    },
    "id": "74e9819c",
    "outputId": "c6b1745f-4e19-4f83-afb7-c22f07062738"
   },
   "outputs": [
    {
     "name": "stdout",
     "output_type": "stream",
     "text": [
      "epoch 1, loss nan, train acc 0.933, validation acc 0.939\n",
      "epoch 2, loss nan, train acc 0.951, validation acc 0.955\n",
      "epoch 3, loss nan, train acc 0.961, validation acc 0.962\n",
      "epoch 4, loss nan, train acc 0.968, validation acc 0.967\n",
      "epoch 5, loss nan, train acc 0.972, validation acc 0.967\n",
      "epoch 6, loss nan, train acc 0.975, validation acc 0.969\n",
      "epoch 7, loss nan, train acc 0.977, validation acc 0.970\n",
      "epoch 8, loss nan, train acc 0.980, validation acc 0.971\n",
      "epoch 9, loss nan, train acc 0.981, validation acc 0.971\n",
      "epoch 10, loss nan, train acc 0.983, validation acc 0.972\n",
      "epoch 11, loss nan, train acc 0.984, validation acc 0.973\n",
      "epoch 12, loss nan, train acc 0.985, validation acc 0.973\n",
      "epoch 13, loss nan, train acc 0.986, validation acc 0.973\n",
      "epoch 14, loss nan, train acc 0.987, validation acc 0.974\n",
      "epoch 15, loss nan, train acc 0.987, validation acc 0.974\n",
      "epoch 16, loss nan, train acc 0.988, validation acc 0.974\n",
      "epoch 17, loss nan, train acc 0.989, validation acc 0.974\n",
      "epoch 18, loss nan, train acc 0.989, validation acc 0.974\n",
      "epoch 19, loss nan, train acc 0.989, validation acc 0.974\n",
      "epoch 20, loss nan, train acc 0.990, validation acc 0.975\n",
      "epoch 21, loss nan, train acc 0.990, validation acc 0.975\n",
      "epoch 22, loss nan, train acc 0.991, validation acc 0.975\n",
      "epoch 23, loss nan, train acc 0.991, validation acc 0.975\n",
      "epoch 24, loss nan, train acc 0.991, validation acc 0.975\n",
      "epoch 25, loss nan, train acc 0.992, validation acc 0.975\n",
      "epoch 26, loss nan, train acc 0.992, validation acc 0.975\n",
      "epoch 27, loss nan, train acc 0.992, validation acc 0.975\n",
      "epoch 28, loss nan, train acc 0.992, validation acc 0.975\n",
      "epoch 29, loss nan, train acc 0.992, validation acc 0.975\n",
      "epoch 30, loss nan, train acc 0.992, validation acc 0.975\n",
      "epoch 31, loss nan, train acc 0.993, validation acc 0.975\n",
      "epoch 32, loss nan, train acc 0.993, validation acc 0.975\n",
      "epoch 33, loss nan, train acc 0.993, validation acc 0.975\n",
      "epoch 34, loss nan, train acc 0.993, validation acc 0.975\n",
      "epoch 35, loss nan, train acc 0.993, validation acc 0.975\n",
      "epoch 36, loss nan, train acc 0.993, validation acc 0.975\n",
      "epoch 37, loss nan, train acc 0.993, validation acc 0.975\n",
      "epoch 38, loss nan, train acc 0.994, validation acc 0.975\n",
      "epoch 39, loss nan, train acc 0.994, validation acc 0.976\n",
      "epoch 40, loss nan, train acc 0.994, validation acc 0.976\n",
      "epoch 41, loss nan, train acc 0.994, validation acc 0.976\n",
      "epoch 42, loss nan, train acc 0.994, validation acc 0.976\n",
      "epoch 43, loss nan, train acc 0.994, validation acc 0.976\n",
      "epoch 44, loss nan, train acc 0.994, validation acc 0.976\n",
      "epoch 45, loss nan, train acc 0.994, validation acc 0.976\n",
      "epoch 46, loss nan, train acc 0.994, validation acc 0.976\n",
      "epoch 47, loss nan, train acc 0.994, validation acc 0.976\n",
      "epoch 48, loss nan, train acc 0.994, validation acc 0.975\n",
      "epoch 49, loss nan, train acc 0.994, validation acc 0.975\n",
      "epoch 50, loss nan, train acc 0.994, validation acc 0.975\n"
     ]
    }
   ],
   "source": [
    "####################################################################################################\n",
    "# enter code here to train Model1\n",
    "# TODO: set your desired hidden size, learning rate, number of iterations and batch size\n",
    "# remember to load the dataset to the device (e.g. data_dict['x_train'].to(device))\n",
    "hidden_size = 75\n",
    "learning_rate = 0.1\n",
    "num_iter = 50\n",
    "batch_size = 8\n",
    "\n",
    "model1 = NN(learning_rate, num_iter, batch_size, hidden_size, device)\n",
    "model1.train(data_dict['x_train'].to(device), data_dict['y_train'].to(device), data_dict['x_val'].to(device), data_dict['y_val'].to(device), verbose=1)\n",
    "\n",
    "####################################################################################################"
   ]
  },
  {
   "cell_type": "code",
   "execution_count": 9,
   "id": "bebd0600",
   "metadata": {
    "colab": {
     "base_uri": "https://localhost:8080/",
     "height": 265
    },
    "id": "bebd0600",
    "outputId": "4cf59edb-b5bd-417c-913f-78b5a793189f"
   },
   "outputs": [
    {
     "data": {
      "image/png": "[encoded data removed]",
      "text/plain": [
       "<Figure size 432x288 with 1 Axes>"
      ]
     },
     "metadata": {
      "needs_background": "light"
     },
     "output_type": "display_data"
    }
   ],
   "source": [
    "plt.plot(model1.history['train_acc'], label='train_acc')\n",
    "plt.plot(model1.history['val_acc'], label='val_acc')\n",
    "plt.legend()\n",
    "plt.show()"
   ]
  },
  {
   "cell_type": "code",
   "execution_count": 10,
   "id": "UQciuqY96_6Z",
   "metadata": {
    "colab": {
     "base_uri": "https://localhost:8080/"
    },
    "id": "UQciuqY96_6Z",
    "outputId": "0aff8095-e7a6-4558-f99c-36d2512488f7"
   },
   "outputs": [
    {
     "name": "stdout",
     "output_type": "stream",
     "text": [
      "[[ 966    0    1    0    2    2    3    2    3    1]\n",
      " [   0 1122    3    2    1    2    2    2    1    0]\n",
      " [   4    2 1013    1    1    0    2    6    3    0]\n",
      " [   0    0    6  986    0    5    1    4    7    1]\n",
      " [   1    0    1    0  961    0    5    1    0   13]\n",
      " [   2    0    0   13    2  861    5    1    4    4]\n",
      " [   4    2    1    1    4    3  938    0    5    0]\n",
      " [   1    4   13    2    1    0    0  996    4    7]\n",
      " [   4    0    5    7    6    2    3    2  943    2]\n",
      " [   1    3    0    8    9    2    1    5    6  974]]\n",
      "The accuracy of the model is:  0.976\n",
      "The precision of the model is:  [0.0966 0.1122 0.1013 0.0986 0.0961 0.0861 0.0938 0.0996 0.0943 0.0974]\n",
      "The recall of the model is:  [0.0966 0.1122 0.1013 0.0986 0.0961 0.0861 0.0938 0.0996 0.0943 0.0974]\n",
      "The f-measure of the model is:  [0.0966 0.1122 0.1013 0.0986 0.0961 0.0861 0.0938 0.0996 0.0943 0.0974]\n"
     ]
    }
   ],
   "source": [
    "####################################################################################################\n",
    "# enter code here to evaluate Model1 with test set\n",
    "# TODO: use the trained Model1 to predict the labels of test set and evaluate the results with the evaluator\n",
    "evaluator(data_dict['y_test'].to(device), model1.predict(data_dict['x_test'].to(device)))\n",
    "####################################################################################################"
   ]
  },
  {
   "cell_type": "markdown",
   "id": "QG_rb7uJ4XDL",
   "metadata": {
    "id": "QG_rb7uJ4XDL"
   },
   "source": [
    "## Part 2"
   ]
  },
  {
   "cell_type": "markdown",
   "id": "a5c845a9",
   "metadata": {},
   "source": [
    "### Model2-1"
   ]
  },
  {
   "cell_type": "code",
   "execution_count": 20,
   "id": "13519996",
   "metadata": {},
   "outputs": [],
   "source": [
    "####################################################################################################\n",
    "# enter code here to implement Model2-1\n",
    "x_train = data_dict['x_train'].numpy()\n",
    "y_train = data_dict['y_train'].numpy()\n",
    "x_val = data_dict['x_val'].numpy()\n",
    "y_val = data_dict['y_val'].numpy()\n",
    "x_test = data_dict['x_test'].numpy()\n",
    "y_test = data_dict['y_test'].numpy()\n",
    "\n",
    "model_2_1 = Sequential()\n",
    "model_2_1.add(Dense(hidden_size, input_dim=x_train.shape[1], activation='sigmoid'))\n",
    "model_2_1.add(Dense(y_train.shape[1], activation='sigmoid'))\n",
    "model_2_1.compile(loss='mean_squared_error', optimizer='adam', metrics=['accuracy'])\n",
    "####################################################################################################"
   ]
  },
  {
   "cell_type": "code",
   "execution_count": 21,
   "id": "208a8e33",
   "metadata": {},
   "outputs": [
    {
     "name": "stdout",
     "output_type": "stream",
     "text": [
      "Epoch 1/50\n",
      "6250/6250 [==============================] - 3s 439us/step - loss: 0.0206 - accuracy: 0.8910\n",
      "Epoch 2/50\n",
      "6250/6250 [==============================] - 3s 434us/step - loss: 0.0096 - accuracy: 0.9451\n",
      "Epoch 3/50\n",
      "6250/6250 [==============================] - 3s 431us/step - loss: 0.0073 - accuracy: 0.9574\n",
      "Epoch 4/50\n",
      "6250/6250 [==============================] - 3s 471us/step - loss: 0.0061 - accuracy: 0.9656\n",
      "Epoch 5/50\n",
      "6250/6250 [==============================] - 3s 432us/step - loss: 0.0052 - accuracy: 0.9717\n",
      "Epoch 6/50\n",
      "6250/6250 [==============================] - 3s 430us/step - loss: 0.0046 - accuracy: 0.9759\n",
      "Epoch 7/50\n",
      "6250/6250 [==============================] - 3s 437us/step - loss: 0.0041 - accuracy: 0.9787\n",
      "Epoch 8/50\n",
      "6250/6250 [==============================] - 3s 433us/step - loss: 0.0037 - accuracy: 0.9816\n",
      "Epoch 9/50\n",
      "6250/6250 [==============================] - 3s 437us/step - loss: 0.0033 - accuracy: 0.9837\n",
      "Epoch 10/50\n",
      "6250/6250 [==============================] - 3s 450us/step - loss: 0.0030 - accuracy: 0.9854\n",
      "Epoch 11/50\n",
      "6250/6250 [==============================] - 3s 431us/step - loss: 0.0028 - accuracy: 0.9861\n",
      "Epoch 12/50\n",
      "6250/6250 [==============================] - 3s 435us/step - loss: 0.0025 - accuracy: 0.9878\n",
      "Epoch 13/50\n",
      "6250/6250 [==============================] - 3s 426us/step - loss: 0.0023 - accuracy: 0.9885\n",
      "Epoch 14/50\n",
      "6250/6250 [==============================] - 3s 426us/step - loss: 0.0021 - accuracy: 0.9899\n",
      "Epoch 15/50\n",
      "6250/6250 [==============================] - 3s 426us/step - loss: 0.0020 - accuracy: 0.9905\n",
      "Epoch 16/50\n",
      "6250/6250 [==============================] - 3s 435us/step - loss: 0.0019 - accuracy: 0.9911\n",
      "Epoch 17/50\n",
      "6250/6250 [==============================] - 3s 426us/step - loss: 0.0017 - accuracy: 0.9915\n",
      "Epoch 18/50\n",
      "6250/6250 [==============================] - 3s 426us/step - loss: 0.0016 - accuracy: 0.9921\n",
      "Epoch 19/50\n",
      "6250/6250 [==============================] - 3s 433us/step - loss: 0.0015 - accuracy: 0.9925\n",
      "Epoch 20/50\n",
      "6250/6250 [==============================] - 3s 429us/step - loss: 0.0014 - accuracy: 0.9929\n",
      "Epoch 21/50\n",
      "6250/6250 [==============================] - 3s 431us/step - loss: 0.0013 - accuracy: 0.9930\n",
      "Epoch 22/50\n",
      "6250/6250 [==============================] - 3s 438us/step - loss: 0.0013 - accuracy: 0.9934\n",
      "Epoch 23/50\n",
      "6250/6250 [==============================] - 3s 436us/step - loss: 0.0012 - accuracy: 0.9938\n",
      "Epoch 24/50\n",
      "6250/6250 [==============================] - 3s 440us/step - loss: 0.0011 - accuracy: 0.9941\n",
      "Epoch 25/50\n",
      "6250/6250 [==============================] - 3s 436us/step - loss: 0.0011 - accuracy: 0.9941\n",
      "Epoch 26/50\n",
      "6250/6250 [==============================] - 3s 432us/step - loss: 9.8515e-04 - accuracy: 0.9945\n",
      "Epoch 27/50\n",
      "6250/6250 [==============================] - 3s 452us/step - loss: 9.6780e-04 - accuracy: 0.9944\n",
      "Epoch 28/50\n",
      "6250/6250 [==============================] - 3s 456us/step - loss: 9.0838e-04 - accuracy: 0.9947\n",
      "Epoch 29/50\n",
      "6250/6250 [==============================] - 3s 440us/step - loss: 8.6806e-04 - accuracy: 0.9949\n",
      "Epoch 30/50\n",
      "6250/6250 [==============================] - 3s 438us/step - loss: 8.3687e-04 - accuracy: 0.9950\n",
      "Epoch 31/50\n",
      "6250/6250 [==============================] - 3s 442us/step - loss: 8.1719e-04 - accuracy: 0.9950\n",
      "Epoch 32/50\n",
      "6250/6250 [==============================] - 3s 440us/step - loss: 7.8757e-04 - accuracy: 0.9951\n",
      "Epoch 33/50\n",
      "6250/6250 [==============================] - 3s 451us/step - loss: 7.3746e-04 - accuracy: 0.9953\n",
      "Epoch 34/50\n",
      "6250/6250 [==============================] - 3s 445us/step - loss: 7.1725e-04 - accuracy: 0.9953\n",
      "Epoch 35/50\n",
      "6250/6250 [==============================] - 3s 442us/step - loss: 7.1377e-04 - accuracy: 0.9954\n",
      "Epoch 36/50\n",
      "6250/6250 [==============================] - 3s 447us/step - loss: 6.7363e-04 - accuracy: 0.9954\n",
      "Epoch 37/50\n",
      "6250/6250 [==============================] - 3s 447us/step - loss: 6.5853e-04 - accuracy: 0.9956\n",
      "Epoch 38/50\n",
      "6250/6250 [==============================] - 3s 439us/step - loss: 6.5153e-04 - accuracy: 0.9955\n",
      "Epoch 39/50\n",
      "6250/6250 [==============================] - 3s 446us/step - loss: 6.3054e-04 - accuracy: 0.9956\n",
      "Epoch 40/50\n",
      "6250/6250 [==============================] - 3s 449us/step - loss: 6.0398e-04 - accuracy: 0.9956\n",
      "Epoch 41/50\n",
      "6250/6250 [==============================] - 3s 440us/step - loss: 5.9805e-04 - accuracy: 0.9956\n",
      "Epoch 42/50\n",
      "6250/6250 [==============================] - 3s 450us/step - loss: 5.8735e-04 - accuracy: 0.9957\n",
      "Epoch 43/50\n",
      "6250/6250 [==============================] - 3s 449us/step - loss: 5.7870e-04 - accuracy: 0.9957\n",
      "Epoch 44/50\n",
      "6250/6250 [==============================] - 3s 455us/step - loss: 5.7791e-04 - accuracy: 0.9957\n",
      "Epoch 45/50\n",
      "6250/6250 [==============================] - 3s 449us/step - loss: 5.6121e-04 - accuracy: 0.9958\n",
      "Epoch 46/50\n",
      "6250/6250 [==============================] - 3s 436us/step - loss: 5.4990e-04 - accuracy: 0.9957\n",
      "Epoch 47/50\n",
      "6250/6250 [==============================] - 3s 436us/step - loss: 5.3734e-04 - accuracy: 0.9958\n",
      "Epoch 48/50\n",
      "6250/6250 [==============================] - 3s 438us/step - loss: 5.3796e-04 - accuracy: 0.9958\n",
      "Epoch 49/50\n",
      "6250/6250 [==============================] - 3s 456us/step - loss: 5.3678e-04 - accuracy: 0.9958\n",
      "Epoch 50/50\n",
      "6250/6250 [==============================] - 3s 456us/step - loss: 5.3058e-04 - accuracy: 0.9959\n"
     ]
    }
   ],
   "source": [
    "####################################################################################################\n",
    "# enter code here to train Model2-1\n",
    "history = model_2_1.fit(x_train, y_train, epochs=num_iter, batch_size=batch_size)\n",
    "####################################################################################################"
   ]
  },
  {
   "cell_type": "code",
   "execution_count": 22,
   "id": "f61594f0",
   "metadata": {},
   "outputs": [
    {
     "name": "stdout",
     "output_type": "stream",
     "text": [
      "[[ 966    0    3    1    0    2    6    1    1    0]\n",
      " [   1 1118    5    1    0    1    4    2    3    0]\n",
      " [   5    0 1005    3    2    1    4    7    5    0]\n",
      " [   1    0    5  979    0    9    1    6    5    4]\n",
      " [   1    1    3    0  961    1    5    1    2    7]\n",
      " [   4    0    0    9    1  863    5    2    5    3]\n",
      " [   3    3    0    1    2    2  947    0    0    0]\n",
      " [   0    5   13    3    2    2    0  998    0    5]\n",
      " [   5    0    7    6    3    3    3    3  941    3]\n",
      " [   2    4    0    5   15    6    0    9    4  964]]\n",
      "The accuracy of the model is:  0.9742\n",
      "The precision of the model is:  [0.0966 0.1118 0.1005 0.0979 0.0961 0.0863 0.0947 0.0998 0.0941 0.0964]\n",
      "The recall of the model is:  [0.0966 0.1118 0.1005 0.0979 0.0961 0.0863 0.0947 0.0998 0.0941 0.0964]\n",
      "The f-measure of the model is:  [0.0966 0.1118 0.1005 0.0979 0.0961 0.0863 0.0947 0.0998 0.0941 0.0964]\n"
     ]
    }
   ],
   "source": [
    "####################################################################################################\n",
    "# enter code here to evaluate Model2-1\n",
    "y_pred_2_1 = torch.argmax(torch.from_numpy(model_2_1.predict(x_test)), dim=1)\n",
    "evaluator(torch.from_numpy(y_test).to(device), y_pred_2_1.to(device))\n",
    "####################################################################################################"
   ]
  },
  {
   "cell_type": "markdown",
   "id": "c4a9243f",
   "metadata": {},
   "source": [
    "### Model2-2"
   ]
  },
  {
   "cell_type": "code",
   "execution_count": 23,
   "id": "0eaf38a5",
   "metadata": {},
   "outputs": [],
   "source": [
    "####################################################################################################\n",
    "# enter code here to implement Model2-2\n",
    "hidden_nodes_2 = 50\n",
    "model_2_2 = Sequential()\n",
    "model_2_2.add(Dense(hidden_size, input_dim=x_train.shape[1], activation='sigmoid'))\n",
    "model_2_2.add(Dense(hidden_nodes_2, activation='sigmoid'))\n",
    "model_2_2.add(Dense(y_train.shape[1], activation='sigmoid'))\n",
    "\n",
    "model_2_2.compile(loss='mean_squared_error', optimizer='adam', metrics=['accuracy'])\n",
    "\n",
    "####################################################################################################"
   ]
  },
  {
   "cell_type": "code",
   "execution_count": 24,
   "id": "090300ae",
   "metadata": {},
   "outputs": [
    {
     "name": "stdout",
     "output_type": "stream",
     "text": [
      "Epoch 1/50\n",
      "6250/6250 [==============================] - 3s 446us/step - loss: 0.0235 - accuracy: 0.8583\n",
      "Epoch 2/50\n",
      "6250/6250 [==============================] - 3s 458us/step - loss: 0.0084 - accuracy: 0.9487\n",
      "Epoch 3/50\n",
      "6250/6250 [==============================] - 3s 470us/step - loss: 0.0061 - accuracy: 0.9627\n",
      "Epoch 4/50\n",
      "6250/6250 [==============================] - 3s 485us/step - loss: 0.0049 - accuracy: 0.9715\n",
      "Epoch 5/50\n",
      "6250/6250 [==============================] - 3s 457us/step - loss: 0.0040 - accuracy: 0.9775\n",
      "Epoch 6/50\n",
      "6250/6250 [==============================] - 3s 459us/step - loss: 0.0034 - accuracy: 0.9806\n",
      "Epoch 7/50\n",
      "6250/6250 [==============================] - 3s 467us/step - loss: 0.0029 - accuracy: 0.9836\n",
      "Epoch 8/50\n",
      "6250/6250 [==============================] - 3s 459us/step - loss: 0.0025 - accuracy: 0.9861\n",
      "Epoch 9/50\n",
      "6250/6250 [==============================] - 3s 473us/step - loss: 0.0022 - accuracy: 0.9882\n",
      "Epoch 10/50\n",
      "6250/6250 [==============================] - 3s 467us/step - loss: 0.0019 - accuracy: 0.9898\n",
      "Epoch 11/50\n",
      "6250/6250 [==============================] - 3s 457us/step - loss: 0.0018 - accuracy: 0.9904\n",
      "Epoch 12/50\n",
      "6250/6250 [==============================] - 3s 459us/step - loss: 0.0016 - accuracy: 0.9913\n",
      "Epoch 13/50\n",
      "6250/6250 [==============================] - 3s 483us/step - loss: 0.0015 - accuracy: 0.9917\n",
      "Epoch 14/50\n",
      "6250/6250 [==============================] - 3s 478us/step - loss: 0.0013 - accuracy: 0.9932\n",
      "Epoch 15/50\n",
      "6250/6250 [==============================] - 3s 468us/step - loss: 0.0012 - accuracy: 0.9935\n",
      "Epoch 16/50\n",
      "6250/6250 [==============================] - 3s 488us/step - loss: 0.0011 - accuracy: 0.9943\n",
      "Epoch 17/50\n",
      "6250/6250 [==============================] - 3s 484us/step - loss: 0.0010 - accuracy: 0.9945\n",
      "Epoch 18/50\n",
      "6250/6250 [==============================] - 3s 475us/step - loss: 9.7706e-04 - accuracy: 0.9947\n",
      "Epoch 19/50\n",
      "6250/6250 [==============================] - 3s 464us/step - loss: 9.0384e-04 - accuracy: 0.9951\n",
      "Epoch 20/50\n",
      "6250/6250 [==============================] - 3s 472us/step - loss: 8.3154e-04 - accuracy: 0.9954\n",
      "Epoch 21/50\n",
      "6250/6250 [==============================] - 3s 466us/step - loss: 8.0389e-04 - accuracy: 0.9954\n",
      "Epoch 22/50\n",
      "6250/6250 [==============================] - 3s 472us/step - loss: 7.5115e-04 - accuracy: 0.9958\n",
      "Epoch 23/50\n",
      "6250/6250 [==============================] - 3s 478us/step - loss: 7.2756e-04 - accuracy: 0.9958\n",
      "Epoch 24/50\n",
      "6250/6250 [==============================] - 3s 466us/step - loss: 7.1082e-04 - accuracy: 0.9958\n",
      "Epoch 25/50\n",
      "6250/6250 [==============================] - 3s 458us/step - loss: 6.6707e-04 - accuracy: 0.9963\n",
      "Epoch 26/50\n",
      "6250/6250 [==============================] - 3s 461us/step - loss: 6.3369e-04 - accuracy: 0.9963\n",
      "Epoch 27/50\n",
      "6250/6250 [==============================] - 3s 465us/step - loss: 6.0752e-04 - accuracy: 0.9965\n",
      "Epoch 28/50\n",
      "6250/6250 [==============================] - 3s 464us/step - loss: 6.1018e-04 - accuracy: 0.9967\n",
      "Epoch 29/50\n",
      "6250/6250 [==============================] - 3s 467us/step - loss: 5.7493e-04 - accuracy: 0.9965\n",
      "Epoch 30/50\n",
      "6250/6250 [==============================] - 3s 464us/step - loss: 5.4864e-04 - accuracy: 0.9967\n",
      "Epoch 31/50\n",
      "6250/6250 [==============================] - 3s 467us/step - loss: 5.3729e-04 - accuracy: 0.9970\n",
      "Epoch 32/50\n",
      "6250/6250 [==============================] - 3s 464us/step - loss: 5.4635e-04 - accuracy: 0.9969\n",
      "Epoch 33/50\n",
      "6250/6250 [==============================] - 3s 463us/step - loss: 5.1240e-04 - accuracy: 0.9971\n",
      "Epoch 34/50\n",
      "6250/6250 [==============================] - 3s 467us/step - loss: 4.9651e-04 - accuracy: 0.9972\n",
      "Epoch 35/50\n",
      "6250/6250 [==============================] - 3s 469us/step - loss: 5.1649e-04 - accuracy: 0.9970\n",
      "Epoch 36/50\n",
      "6250/6250 [==============================] - 3s 471us/step - loss: 5.1391e-04 - accuracy: 0.9969\n",
      "Epoch 37/50\n",
      "6250/6250 [==============================] - 3s 476us/step - loss: 4.8541e-04 - accuracy: 0.9972\n",
      "Epoch 38/50\n",
      "6250/6250 [==============================] - 3s 483us/step - loss: 4.6871e-04 - accuracy: 0.9973\n",
      "Epoch 39/50\n",
      "6250/6250 [==============================] - 3s 478us/step - loss: 4.5314e-04 - accuracy: 0.9974\n",
      "Epoch 40/50\n",
      "6250/6250 [==============================] - 3s 472us/step - loss: 4.5139e-04 - accuracy: 0.9973\n",
      "Epoch 41/50\n",
      "6250/6250 [==============================] - 3s 458us/step - loss: 4.3053e-04 - accuracy: 0.9973\n",
      "Epoch 42/50\n",
      "6250/6250 [==============================] - 3s 455us/step - loss: 4.2969e-04 - accuracy: 0.9974\n",
      "Epoch 43/50\n",
      "6250/6250 [==============================] - 3s 455us/step - loss: 4.3757e-04 - accuracy: 0.9975\n",
      "Epoch 44/50\n",
      "6250/6250 [==============================] - 3s 460us/step - loss: 4.0665e-04 - accuracy: 0.9976\n",
      "Epoch 45/50\n",
      "6250/6250 [==============================] - 3s 468us/step - loss: 4.0914e-04 - accuracy: 0.9976\n",
      "Epoch 46/50\n",
      "6250/6250 [==============================] - 3s 469us/step - loss: 3.9486e-04 - accuracy: 0.9977\n",
      "Epoch 47/50\n",
      "6250/6250 [==============================] - 3s 467us/step - loss: 3.6193e-04 - accuracy: 0.9979\n",
      "Epoch 48/50\n",
      "6250/6250 [==============================] - 3s 463us/step - loss: 3.8823e-04 - accuracy: 0.9977\n",
      "Epoch 49/50\n",
      "6250/6250 [==============================] - 3s 475us/step - loss: 3.6664e-04 - accuracy: 0.9978\n",
      "Epoch 50/50\n",
      "6250/6250 [==============================] - 3s 463us/step - loss: 3.6841e-04 - accuracy: 0.9978\n"
     ]
    }
   ],
   "source": [
    "####################################################################################################\n",
    "# enter code here to train Model2-2\n",
    "history = model_2_2.fit(x_train, y_train, epochs=num_iter, batch_size=batch_size)\n",
    "\n",
    "####################################################################################################"
   ]
  },
  {
   "cell_type": "code",
   "execution_count": 25,
   "id": "ca87daf8",
   "metadata": {},
   "outputs": [
    {
     "name": "stdout",
     "output_type": "stream",
     "text": [
      "[[ 967    0    1    3    1    5    1    1    1    0]\n",
      " [   0 1127    0    1    0    1    4    1    1    0]\n",
      " [   5    6  991   10    3    0    3    9    5    0]\n",
      " [   0    0    2  989    0    9    0    7    3    0]\n",
      " [   2    0    2    1  959    0    6    2    1    9]\n",
      " [   2    0    0   13    1  863    7    0    4    2]\n",
      " [   5    2    1    1    4    3  940    0    2    0]\n",
      " [   2    1    7    9    1    0    0 1003    0    5]\n",
      " [   5    1    4   10    9    9    2    3  930    1]\n",
      " [   3    4    0   11   18    6    0    5    4  958]]\n",
      "The accuracy of the model is:  0.9727\n",
      "The precision of the model is:  [0.0967 0.1127 0.0991 0.0989 0.0959 0.0863 0.094  0.1003 0.093  0.0958]\n",
      "The recall of the model is:  [0.0967 0.1127 0.0991 0.0989 0.0959 0.0863 0.094  0.1003 0.093  0.0958]\n",
      "The f-measure of the model is:  [0.0967 0.1127 0.0991 0.0989 0.0959 0.0863 0.094  0.1003 0.093  0.0958]\n"
     ]
    }
   ],
   "source": [
    "####################################################################################################\n",
    "# enter code here to evaluate Model2-2\n",
    "y_pred_2_2 = torch.argmax(torch.from_numpy(model_2_2.predict(x_test)), dim=1)\n",
    "evaluator(torch.from_numpy(y_test).to(device), y_pred_2_2.to(device))\n",
    "\n",
    "####################################################################################################"
   ]
  },
  {
   "cell_type": "code",
   "execution_count": null,
   "id": "7ffe3906-ba99-48d1-b07c-30dc78e3bd23",
   "metadata": {},
   "outputs": [],
   "source": []
  }
 ],
 "metadata": {
  "accelerator": "GPU",
  "colab": {
   "collapsed_sections": [],
   "name": "A2_solution.ipynb",
   "provenance": []
  },
  "kernelspec": {
   "display_name": "Python 3",
   "language": "python",
   "name": "python3"
  },
  "language_info": {
   "codemirror_mode": {
    "name": "ipython",
    "version": 3
   },
   "file_extension": ".py",
   "mimetype": "text/x-python",
   "name": "python",
   "nbconvert_exporter": "python",
   "pygments_lexer": "ipython3",
   "version": "3.8.8"
  },
  "vscode": {
   "interpreter": {
    "hash": "31f2aee4e71d21fbe5cf8b01ff0e069b9275f58929596ceb00d14d90e3e16cd6"
   }
  }
 },
 "nbformat": 4,
 "nbformat_minor": 5
}
